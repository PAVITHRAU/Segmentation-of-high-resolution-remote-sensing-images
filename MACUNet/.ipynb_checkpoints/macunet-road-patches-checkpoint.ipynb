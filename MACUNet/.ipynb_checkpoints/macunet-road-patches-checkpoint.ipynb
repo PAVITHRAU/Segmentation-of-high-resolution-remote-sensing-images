{
 "cells": [
  {
   "cell_type": "markdown",
   "metadata": {},
   "source": [
    "# Building Segmentation"
   ]
  },
  {
   "cell_type": "code",
   "execution_count": 1,
   "metadata": {
    "execution": {
     "iopub.execute_input": "2024-03-14T10:23:49.056676Z",
     "iopub.status.busy": "2024-03-14T10:23:49.056287Z",
     "iopub.status.idle": "2024-03-14T10:23:58.907258Z",
     "shell.execute_reply": "2024-03-14T10:23:58.906364Z",
     "shell.execute_reply.started": "2024-03-14T10:23:49.056644Z"
    }
   },
   "outputs": [
    {
     "name": "stderr",
     "output_type": "stream",
     "text": [
      "2024-03-14 10:23:49.431269: E external/local_xla/xla/stream_executor/cuda/cuda_dnn.cc:9261] Unable to register cuDNN factory: Attempting to register factory for plugin cuDNN when one has already been registered\n",
      "2024-03-14 10:23:49.431320: E external/local_xla/xla/stream_executor/cuda/cuda_fft.cc:607] Unable to register cuFFT factory: Attempting to register factory for plugin cuFFT when one has already been registered\n",
      "2024-03-14 10:23:49.432753: E external/local_xla/xla/stream_executor/cuda/cuda_blas.cc:1515] Unable to register cuBLAS factory: Attempting to register factory for plugin cuBLAS when one has already been registered\n"
     ]
    }
   ],
   "source": [
    "import glob\n",
    "import matplotlib.pyplot as plt\n",
    "import numpy as np\n",
    "import tifffile as tiff\n",
    "import cv2\n",
    "\n",
    "import os\n",
    "\n",
    "import tensorflow as tf\n",
    "from tensorflow.keras.models import *\n",
    "from tensorflow.keras.layers import *\n",
    "from tensorflow.keras import backend as K\n",
    "from tensorflow.keras.optimizers import *\n",
    "from tensorflow.keras.callbacks import EarlyStopping, ModelCheckpoint, Callback\n",
    "from tensorflow.keras.metrics import MeanIoU, Accuracy"
   ]
  },
  {
   "cell_type": "code",
   "execution_count": 2,
   "metadata": {
    "execution": {
     "iopub.execute_input": "2024-03-14T10:23:58.909353Z",
     "iopub.status.busy": "2024-03-14T10:23:58.908834Z",
     "iopub.status.idle": "2024-03-14T10:23:59.168332Z",
     "shell.execute_reply": "2024-03-14T10:23:59.167336Z",
     "shell.execute_reply.started": "2024-03-14T10:23:58.909327Z"
    }
   },
   "outputs": [],
   "source": [
    "import tensorflow as tf\n",
    "gpus = tf.config.experimental.list_physical_devices('GPU')\n",
    "if gpus:\n",
    "    try:\n",
    "        tf.config.experimental.set_virtual_device_configuration(gpus[0], [tf.config.experimental.VirtualDeviceConfiguration(memory_limit=4096)])\n",
    "    except RuntimeError as e:\n",
    "        print(e)"
   ]
  },
  {
   "cell_type": "code",
   "execution_count": 3,
   "metadata": {
    "execution": {
     "iopub.execute_input": "2024-03-14T10:23:59.170305Z",
     "iopub.status.busy": "2024-03-14T10:23:59.169586Z",
     "iopub.status.idle": "2024-03-14T10:23:59.204602Z",
     "shell.execute_reply": "2024-03-14T10:23:59.203772Z",
     "shell.execute_reply.started": "2024-03-14T10:23:59.170278Z"
    }
   },
   "outputs": [
    {
     "data": {
      "text/plain": [
       "[PhysicalDevice(name='/physical_device:GPU:0', device_type='GPU'),\n",
       " PhysicalDevice(name='/physical_device:GPU:1', device_type='GPU')]"
      ]
     },
     "execution_count": 3,
     "metadata": {},
     "output_type": "execute_result"
    }
   ],
   "source": [
    "gpus"
   ]
  },
  {
   "cell_type": "code",
   "execution_count": 4,
   "metadata": {
    "_kg_hide-input": true,
    "execution": {
     "iopub.execute_input": "2024-03-14T10:23:59.206239Z",
     "iopub.status.busy": "2024-03-14T10:23:59.205849Z",
     "iopub.status.idle": "2024-03-14T10:23:59.213416Z",
     "shell.execute_reply": "2024-03-14T10:23:59.212545Z",
     "shell.execute_reply.started": "2024-03-14T10:23:59.206212Z"
    }
   },
   "outputs": [],
   "source": [
    "# import numpy as np\n",
    "\n",
    "# def extract_padded_patches(image, patch_size=(512, 512)):\n",
    "#     height, width = image.shape[:2]\n",
    "#     patch_height, patch_width = patch_size\n",
    "\n",
    "#     num_patches_y = (height + patch_height - 1) // patch_height\n",
    "#     num_patches_x = (width + patch_width - 1) // patch_width\n",
    "\n",
    "#     # Calculate padding\n",
    "#     pad_y = num_patches_y * patch_height - height\n",
    "#     pad_x = num_patches_x * patch_width - width\n",
    "\n",
    "#     # Pad the image\n",
    "#     padded_image = np.pad(image, ((0, pad_y), (0, pad_x), (0, 0)), mode='constant')\n",
    "#     #print(padded_image.shape)\n",
    "    \n",
    "#     # Extract patches\n",
    "#     patches = []\n",
    "\n",
    "#     for y in range(0, num_patches_y * patch_height, patch_height):\n",
    "#         for x in range(0, num_patches_x * patch_width, patch_width):\n",
    "#             patch = padded_image[y:y+patch_height, x:x+patch_width]\n",
    "#             #plt.imshow(patch/255)\n",
    "#             patches.append(patch)\n",
    "\n",
    "#     return np.array(patches)\n",
    "\n",
    "# #load the .npz file\n",
    "# def load_images(path,name, labels):\n",
    "#     npzfile=np.load(path+\"{}.npz\".format(name))\n",
    "#     images=npzfile['arr_0']\n",
    "#     #patches_image=np.zeros()\n",
    "#     images =[extract_padded_patches(image, (512, 512)) for image in images]\n",
    "#     images = [patch for patches in images for patch in patches]\n",
    "\n",
    "\n",
    "#     npzfile=np.load(path+\"{}.npz\".format(labels))\n",
    "#     labels=npzfile['arr_0']\n",
    "#     #labels=[color.rgb2gray(resize(x,(512,512),mode='constant', preserve_range=True)) for x in labels]\n",
    "    \n",
    "#     labels =[extract_padded_patches(image, (512, 512)) for image in labels]\n",
    "#     labels = [patch for patches in labels for patch in patches]\n",
    "#     labels = np.array(labels)\n",
    "#     labels=[cv2.threshold(color.rgb2gray(gt), 128, 1, cv2.THRESH_BINARY)[1] for gt in labels]\n",
    "    \n",
    "#     return np.array(images),  np.reshape(np.array(labels), (-1, 512, 512, 1))"
   ]
  },
  {
   "cell_type": "code",
   "execution_count": 5,
   "metadata": {
    "execution": {
     "iopub.execute_input": "2024-03-14T10:23:59.216012Z",
     "iopub.status.busy": "2024-03-14T10:23:59.215725Z",
     "iopub.status.idle": "2024-03-14T10:23:59.225360Z",
     "shell.execute_reply": "2024-03-14T10:23:59.224651Z",
     "shell.execute_reply.started": "2024-03-14T10:23:59.215978Z"
    }
   },
   "outputs": [],
   "source": [
    "# import matplotlib.pyplot as plt\n",
    "\n",
    "# # Assume 'patches' is a list of images obtained from extract_padded_patches function\n",
    "\n",
    "# # Create a figure with subplots\n",
    "# fig, axs = plt.subplots(1, len(patches), figsize=(15, 5))\n",
    "\n",
    "# # Iterate through patches and display them\n",
    "# for i, patch in enumerate(patches):\n",
    "#     axs[i].imshow(patch/255)\n",
    "#     axs[i].axis('off')\n",
    "#     axs[i].set_title(f'Patch {i + 1}')\n",
    "\n",
    "# # Show the plot\n",
    "# plt.show()\n"
   ]
  },
  {
   "cell_type": "code",
   "execution_count": 6,
   "metadata": {
    "execution": {
     "iopub.execute_input": "2024-03-14T10:23:59.227120Z",
     "iopub.status.busy": "2024-03-14T10:23:59.226515Z",
     "iopub.status.idle": "2024-03-14T10:23:59.237020Z",
     "shell.execute_reply": "2024-03-14T10:23:59.236276Z",
     "shell.execute_reply.started": "2024-03-14T10:23:59.227089Z"
    }
   },
   "outputs": [],
   "source": [
    "#load the .npz file\n",
    "def load_images(path, name, labels):\n",
    "    npzfile=np.load(path+\"{}.npz\".format(name))\n",
    "    images=npzfile['arr_0']\n",
    "\n",
    "\n",
    "    npzfile=np.load(path+\"{}.npz\".format(labels))\n",
    "    labels=npzfile['arr_0']\n",
    "\n",
    "    return images, labels"
   ]
  },
  {
   "cell_type": "code",
   "execution_count": 7,
   "metadata": {
    "execution": {
     "iopub.execute_input": "2024-03-14T10:23:59.238390Z",
     "iopub.status.busy": "2024-03-14T10:23:59.238071Z",
     "iopub.status.idle": "2024-03-14T10:24:28.777645Z",
     "shell.execute_reply": "2024-03-14T10:24:28.776683Z",
     "shell.execute_reply.started": "2024-03-14T10:23:59.238361Z"
    }
   },
   "outputs": [
    {
     "name": "stdout",
     "output_type": "stream",
     "text": [
      "(1233, 512, 512, 3) (1233, 512, 512, 1) (90, 512, 512, 3) (90, 512, 512, 1)\n"
     ]
    }
   ],
   "source": [
    "path='/kaggle/input/building-patches-512/'\n",
    "\n",
    "x_train,y_train = load_images(path,'x_train_patches','y_train_patches')\n",
    "\n",
    "\n",
    "x_val,y_val = load_images(path,'x_val_patches','y_val_patches')\n",
    "\n",
    "\n",
    "x_test,y_test = load_images(path,'x_test_patches','y_test_patches')\n",
    "\n",
    "\n",
    "x_train.sort()\n",
    "y_train.sort()\n",
    "\n",
    "x_val.sort()\n",
    "y_val.sort()\n",
    "\n",
    "x_test.sort()\n",
    "y_test.sort()\n",
    "\n",
    "print(x_train.shape, y_train.shape, x_test.shape, y_test.shape)"
   ]
  },
  {
   "cell_type": "code",
   "execution_count": 8,
   "metadata": {
    "execution": {
     "iopub.execute_input": "2024-03-14T10:24:28.779424Z",
     "iopub.status.busy": "2024-03-14T10:24:28.779018Z",
     "iopub.status.idle": "2024-03-14T10:24:28.789514Z",
     "shell.execute_reply": "2024-03-14T10:24:28.788615Z",
     "shell.execute_reply.started": "2024-03-14T10:24:28.779372Z"
    }
   },
   "outputs": [],
   "source": [
    "from tensorflow.keras.utils import Sequence\n",
    "import numpy as np \n",
    "class DataGenerator(Sequence):\n",
    "    def __init__(self, x_set, y_set, batch_size):\n",
    "        self.x, self.y = x_set, y_set\n",
    "        self.batch_size = batch_size\n",
    "\n",
    "    def __len__(self):\n",
    "        return int(np.ceil(len(self.x) / float(self.batch_size)))\n",
    "\n",
    "    def __getitem__(self, idx):\n",
    "        batch_x = self.x[idx * self.batch_size:(idx + 1) * self.batch_size]\n",
    "        batch_y = self.y[idx * self.batch_size:(idx + 1) * self.batch_size]\n",
    "        return batch_x, batch_y\n",
    "\n",
    "train_gen = DataGenerator(x_train, y_train, 4)\n",
    "val_gen = DataGenerator(x_val, y_val, 4)\n"
   ]
  },
  {
   "cell_type": "code",
   "execution_count": 9,
   "metadata": {
    "execution": {
     "iopub.execute_input": "2024-03-14T10:24:28.790928Z",
     "iopub.status.busy": "2024-03-14T10:24:28.790595Z",
     "iopub.status.idle": "2024-03-14T10:24:29.193711Z",
     "shell.execute_reply": "2024-03-14T10:24:29.192807Z",
     "shell.execute_reply.started": "2024-03-14T10:24:28.790902Z"
    }
   },
   "outputs": [
    {
     "data": {
      "text/plain": [
       "Text(0.5, 1.0, 'Actual image')"
      ]
     },
     "execution_count": 9,
     "metadata": {},
     "output_type": "execute_result"
    },
    {
     "data": {
      "image/png": "[encoded data removed]",
      "text/plain": [
       "<Figure size 640x480 with 2 Axes>"
      ]
     },
     "metadata": {},
     "output_type": "display_data"
    }
   ],
   "source": [
    "import matplotlib.pyplot as plt\n",
    "fig = plt.figure()\n",
    "fig.figsize = (30,30)\n",
    "\n",
    "ax = fig.add_subplot(1,2,1)\n",
    "ax.imshow(np.reshape(y_train[2]/255,(512,512)),cmap=\"gray\")\n",
    "plt.axis('off')\n",
    "plt.title(\"Ground-truth\")\n",
    "\n",
    "ax = fig.add_subplot(1,2,2)\n",
    "ax.imshow(x_train[2]/255)\n",
    "plt.axis('off')\n",
    "plt.title(\"Actual image\")"
   ]
  },
  {
   "cell_type": "markdown",
   "metadata": {},
   "source": [
    "# Loss"
   ]
  },
  {
   "cell_type": "code",
   "execution_count": 10,
   "metadata": {
    "execution": {
     "iopub.execute_input": "2024-03-14T10:24:29.195170Z",
     "iopub.status.busy": "2024-03-14T10:24:29.194889Z",
     "iopub.status.idle": "2024-03-14T10:24:29.205206Z",
     "shell.execute_reply": "2024-03-14T10:24:29.204262Z",
     "shell.execute_reply.started": "2024-03-14T10:24:29.195145Z"
    }
   },
   "outputs": [],
   "source": [
    "from keras import backend as K\n",
    "from keras.losses import binary_crossentropy\n",
    "import tensorflow as tf\n",
    "\n",
    "def dice_coef(y_true, y_pred, smooth=1):\n",
    "    y_true_f = K.flatten(y_true)\n",
    "    y_pred_f = K.flatten(y_pred)\n",
    "    intersection = K.sum(y_true_f * y_pred_f)\n",
    "    return (2. * intersection + smooth) / (K.sum(y_true_f) + K.sum(y_pred_f) + smooth)\n",
    "\n",
    "def iou_coef(y_true, y_pred, smooth=1):\n",
    "    intersection = K.sum(K.abs(y_true * y_pred), axis=[1,2,3])\n",
    "    union = K.sum(y_true,[1,2,3])+K.sum(y_pred,[1,2,3])-intersection\n",
    "    iou = K.mean((intersection + smooth) / (union + smooth), axis=0)\n",
    "    return iou\n",
    "\n",
    "def dice_loss(y_true, y_pred):\n",
    "    smooth = 1.\n",
    "    y_true_f = K.flatten(y_true)\n",
    "    y_pred_f = K.flatten(y_pred)\n",
    "    intersection = y_true_f * y_pred_f\n",
    "    score = (2. * K.sum(intersection) + smooth) / (K.sum(y_true_f) + K.sum(y_pred_f) + smooth)\n",
    "    return 1. - score\n",
    "\n",
    "def bce_dice_loss(y_true, y_pred):\n",
    "    return binary_crossentropy(tf.cast(y_true, tf.float32), y_pred) + 0.5 * dice_loss(tf.cast(y_true, tf.float32), y_pred)"
   ]
  },
  {
   "cell_type": "code",
   "execution_count": 11,
   "metadata": {
    "execution": {
     "iopub.execute_input": "2024-03-14T10:24:29.206828Z",
     "iopub.status.busy": "2024-03-14T10:24:29.206487Z",
     "iopub.status.idle": "2024-03-14T10:24:29.218831Z",
     "shell.execute_reply": "2024-03-14T10:24:29.217965Z",
     "shell.execute_reply.started": "2024-03-14T10:24:29.206796Z"
    }
   },
   "outputs": [],
   "source": [
    "import tensorflow as tf\n",
    "\n",
    "def create_callbacks():\n",
    "    # Reduce learning rate on plateau\n",
    "    reduce_lr = tf.keras.callbacks.ReduceLROnPlateau(\n",
    "        monitor='val_loss',\n",
    "        mode='min',\n",
    "        factor=0.5,\n",
    "        patience=10,\n",
    "        verbose=1,\n",
    "        cooldown=1,\n",
    "        min_delta=0.0001\n",
    "    )\n",
    "\n",
    "    # Early stopping\n",
    "    early_stop = tf.keras.callbacks.EarlyStopping(\n",
    "        monitor='val_accuracy',\n",
    "        min_delta=0.0001,\n",
    "        patience=30,\n",
    "        verbose=1,\n",
    "        mode='max',\n",
    "        restore_best_weights=True\n",
    "    )\n",
    "\n",
    "    # Model checkpoint\n",
    "    # Define the path using os.path.join for cross-platform compatibility\n",
    "    check_path = os.path.join('.', 'macunet_building.weights.h5')\n",
    "    checkpoint = tf.keras.callbacks.ModelCheckpoint(\n",
    "        check_path,\n",
    "        monitor='val_loss',\n",
    "        verbose=1,\n",
    "        save_best_only=True,\n",
    "        save_weights_only=True,\n",
    "        mode='min'\n",
    "    )\n",
    "\n",
    "    return [reduce_lr, early_stop, checkpoint]\n",
    "\n",
    "# Usage example:\n"
   ]
  },
  {
   "cell_type": "code",
   "execution_count": 12,
   "metadata": {
    "execution": {
     "iopub.execute_input": "2024-03-14T10:24:29.220147Z",
     "iopub.status.busy": "2024-03-14T10:24:29.219888Z",
     "iopub.status.idle": "2024-03-14T10:24:29.228909Z",
     "shell.execute_reply": "2024-03-14T10:24:29.228159Z",
     "shell.execute_reply.started": "2024-03-14T10:24:29.220124Z"
    }
   },
   "outputs": [],
   "source": [
    "import matplotlib.pyplot as plt\n",
    "\n",
    "def plot_history(history):\n",
    "    # Accuracy plot\n",
    "    np.save('macunet_history_building.npy', history.history)\n",
    "    plt.plot(history.history['accuracy'], label='train_acc')\n",
    "    plt.plot(history.history['val_accuracy'], '--', label='val_acc')\n",
    "    plt.legend()\n",
    "    plt.xlabel(\"No. of epochs\")\n",
    "    plt.ylabel(\"Accuracy\")\n",
    "    plt.title(\"Training and Validation Accuracy\")\n",
    "    plt.show()\n",
    "\n",
    "    # Loss plot\n",
    "    plt.plot(history.history['loss'], label='train_loss')\n",
    "    plt.plot(history.history['val_loss'], '--', label='val_loss')\n",
    "    plt.legend()\n",
    "    plt.xlabel(\"No. of epochs\")\n",
    "    plt.ylabel(\"Loss\")\n",
    "    plt.title(\"Training and Validation Loss\")\n",
    "    plt.show()\n",
    "\n"
   ]
  },
  {
   "cell_type": "code",
   "execution_count": 13,
   "metadata": {
    "execution": {
     "iopub.execute_input": "2024-03-14T10:24:29.230390Z",
     "iopub.status.busy": "2024-03-14T10:24:29.230043Z",
     "iopub.status.idle": "2024-03-14T10:24:29.683372Z",
     "shell.execute_reply": "2024-03-14T10:24:29.682597Z",
     "shell.execute_reply.started": "2024-03-14T10:24:29.230358Z"
    }
   },
   "outputs": [],
   "source": [
    "import numpy as np\n",
    "from sklearn.metrics import confusion_matrix, classification_report, cohen_kappa_score, precision_score, recall_score\n",
    "\n",
    "def get_dice(y_true, y_pred):\n",
    "    intersection = np.sum(y_true * y_pred, axis=(0, 1, 2))\n",
    "    union = np.sum(y_true**2, axis=(0, 1, 2)) + np.sum(y_pred**2, axis=(0, 1, 2))\n",
    "    dc = 2 * intersection / union\n",
    "    return dc\n",
    "\n",
    "\n",
    "def evaluate_segmentation(y_test, y_pred):\n",
    "    # Mean Intersection over Union\n",
    "    mean_iou = MeanIoU(2)\n",
    "    mean_iou.update_state(y_test, y_pred)\n",
    "    class_iou = mean_iou.result().numpy()\n",
    "    mean_iou.reset_states()\n",
    "    \n",
    "    # Accuracy\n",
    "    acc = Accuracy()\n",
    "    acc.update_state(y_test, y_pred)\n",
    "    accuracy = acc.result().numpy()\n",
    "    acc.reset_states()\n",
    "    \n",
    "    # Precision\n",
    "    precision = precision_score(y_test.ravel(), y_pred.ravel(), average='binary')\n",
    "    \n",
    "    # Recall\n",
    "    recall = recall_score(y_test.ravel(), y_pred.ravel(), average='binary')\n",
    "    \n",
    "    # Confusion Matrix\n",
    "    cm = confusion_matrix(y_test.ravel(), y_pred.ravel())\n",
    "    \n",
    "    # Classification Report\n",
    "    cr = classification_report(y_test.ravel(), y_pred.ravel())\n",
    "    \n",
    "    # Cohen's Kappa Score\n",
    "    kappa = cohen_kappa_score(y_test.ravel(), y_pred.ravel())\n",
    "    \n",
    "    # Dice Coefficient\n",
    "    dice_coeff = get_dice(y_test, y_pred)\n",
    "    mean_dice_coeff = np.mean(dice_coeff)\n",
    "    \n",
    "    return {\n",
    "        \"mean_iou\": mean_iou,\n",
    "        \"class_iou\": class_iou,\n",
    "        \"accuracy\": accuracy,\n",
    "        \"precision\": precision,\n",
    "        \"recall\": recall,\n",
    "        \"confusion_matrix\": cm,\n",
    "        \"classification_report\": cr,\n",
    "        \"cohen_kappa_score\": kappa,\n",
    "        \"dice_coefficient\": dice_coeff,\n",
    "        \"mean_dice_coefficient\": mean_dice_coeff\n",
    "    }\n"
   ]
  },
  {
   "cell_type": "code",
   "execution_count": 14,
   "metadata": {
    "execution": {
     "iopub.execute_input": "2024-03-14T10:24:29.687289Z",
     "iopub.status.busy": "2024-03-14T10:24:29.686753Z",
     "iopub.status.idle": "2024-03-14T10:24:29.696635Z",
     "shell.execute_reply": "2024-03-14T10:24:29.695625Z",
     "shell.execute_reply.started": "2024-03-14T10:24:29.687262Z"
    }
   },
   "outputs": [],
   "source": [
    "import matplotlib.pyplot as plt\n",
    "\n",
    "def visualize_predictions(x_test, y_test, y_pred, num_samples=10):\n",
    "    fig = plt.figure(figsize=(100, 100))\n",
    "\n",
    "    for i in range(num_samples):\n",
    "        # Plot input image\n",
    "        ax = fig.add_subplot(num_samples, 3, 3*i+1)\n",
    "        ax.imshow(np.reshape(x_test[i]/255, (512, 512,3)))\n",
    "        plt.axis('off')\n",
    "        plt.title(\"Input image\")\n",
    "\n",
    "        # Plot ground truth\n",
    "        ax = fig.add_subplot(num_samples, 3, 3*i+2)\n",
    "        ax.imshow(np.reshape(y_test[i], (512, 512)), cmap=\"gray\")\n",
    "        plt.axis('off')\n",
    "        plt.title(\"Ground-truth\")\n",
    "\n",
    "        # Plot predicted image\n",
    "        ax = fig.add_subplot(num_samples, 3, 3*i+3)\n",
    "        ax.imshow(np.reshape(y_pred[i], (512, 512)), cmap=\"gray\")\n",
    "        plt.axis('off')\n",
    "        plt.title(\"Predicted image\")\n",
    "\n",
    "    plt.tight_layout(pad=0)\n",
    "    plt.show()"
   ]
  },
  {
   "cell_type": "code",
   "execution_count": 15,
   "metadata": {
    "execution": {
     "iopub.execute_input": "2024-03-14T10:24:29.698327Z",
     "iopub.status.busy": "2024-03-14T10:24:29.698000Z",
     "iopub.status.idle": "2024-03-14T10:24:29.709815Z",
     "shell.execute_reply": "2024-03-14T10:24:29.708936Z",
     "shell.execute_reply.started": "2024-03-14T10:24:29.698297Z"
    }
   },
   "outputs": [],
   "source": [
    "def combine_images_gray(images, num_samples=9):\n",
    "    # Create an empty array to store the combined image\n",
    "    combined_image = np.zeros((1536, 1536))\n",
    "\n",
    "    # Calculate the number of rows and columns for the grid\n",
    "    rows = int(np.ceil(np.sqrt(num_samples)))\n",
    "    cols = int(np.ceil(num_samples / rows))\n",
    "\n",
    "    # Iterate over the images and place them in the combined image array\n",
    "    for i in range(num_samples):\n",
    "        row = i // cols\n",
    "        col = i % cols\n",
    "        start_row = row * 512\n",
    "        end_row = start_row + 512\n",
    "        start_col = col * 512\n",
    "        end_col = start_col + 512\n",
    "        combined_image[start_row:end_row, start_col:end_col] = images[i].squeeze() / 255\n",
    "\n",
    "    return combined_image"
   ]
  },
  {
   "cell_type": "code",
   "execution_count": 16,
   "metadata": {
    "execution": {
     "iopub.execute_input": "2024-03-14T10:24:29.711312Z",
     "iopub.status.busy": "2024-03-14T10:24:29.710965Z",
     "iopub.status.idle": "2024-03-14T10:24:29.719626Z",
     "shell.execute_reply": "2024-03-14T10:24:29.718725Z",
     "shell.execute_reply.started": "2024-03-14T10:24:29.711289Z"
    }
   },
   "outputs": [],
   "source": [
    "def combine_images_rgb(images, num_samples=9):\n",
    "    # Create an empty array to store the combined image\n",
    "    combined_image = np.zeros((1536, 1536,3))\n",
    "\n",
    "    # Calculate the number of rows and columns for the grid\n",
    "    rows = int(np.ceil(np.sqrt(num_samples)))\n",
    "    cols = int(np.ceil(num_samples / rows))\n",
    "\n",
    "    # Iterate over the images and place them in the combined image array\n",
    "    for i in range(num_samples):\n",
    "        row = i // cols\n",
    "        col = i % cols\n",
    "        start_row = row * 512\n",
    "        end_row = start_row + 512\n",
    "        start_col = col * 512\n",
    "        end_col = start_col + 512\n",
    "        combined_image[start_row:end_row, start_col:end_col] = images[i] / 255\n",
    "\n",
    "    return combined_image\n"
   ]
  },
  {
   "cell_type": "markdown",
   "metadata": {},
   "source": [
    "# **MACU Net**"
   ]
  },
  {
   "cell_type": "code",
   "execution_count": 17,
   "metadata": {
    "execution": {
     "iopub.execute_input": "2024-03-14T10:24:29.720896Z",
     "iopub.status.busy": "2024-03-14T10:24:29.720630Z",
     "iopub.status.idle": "2024-03-14T10:24:29.733289Z",
     "shell.execute_reply": "2024-03-14T10:24:29.732431Z",
     "shell.execute_reply.started": "2024-03-14T10:24:29.720874Z"
    }
   },
   "outputs": [],
   "source": [
    "import tensorflow as tf                                                                                                                                                   "
   ]
  },
  {
   "cell_type": "code",
   "execution_count": 18,
   "metadata": {
    "execution": {
     "iopub.execute_input": "2024-03-14T10:24:29.735234Z",
     "iopub.status.busy": "2024-03-14T10:24:29.734975Z",
     "iopub.status.idle": "2024-03-14T10:24:29.746107Z",
     "shell.execute_reply": "2024-03-14T10:24:29.745261Z",
     "shell.execute_reply.started": "2024-03-14T10:24:29.735212Z"
    }
   },
   "outputs": [],
   "source": [
    "# Define the Channel Attention module\n",
    "class ChannelAttention(tf.keras.layers.Layer):\n",
    "    def __init__(self, out_planes, ratio=2):\n",
    "        super(ChannelAttention, self).__init__()\n",
    "        self.conv = tf.keras.layers.Conv2D(out_planes, 1, padding='same', use_bias=False)\n",
    "        self.avg_pool = tf.keras.layers.GlobalAveragePooling2D()\n",
    "        self.max_pool = tf.keras.layers.GlobalMaxPooling2D()\n",
    "        self.fc11 = tf.keras.layers.Conv2D(out_planes // ratio, 1, padding='same', use_bias=False)\n",
    "        self.fc12 = tf.keras.layers.Conv2D(out_planes, 1, padding='same', use_bias=False)\n",
    "        self.fc21 = tf.keras.layers.Conv2D(out_planes // ratio, 1, padding='same', use_bias=False)\n",
    "        self.fc22 = tf.keras.layers.Conv2D(out_planes, 1, padding='same', use_bias=False)\n",
    "        self.relu1 = tf.keras.layers.ReLU()\n",
    "        self.sigmoid = tf.keras.layers.Activation('sigmoid')\n",
    "        self.reshape= tf.keras.layers.Reshape((1, 1, -1))\n",
    "\n",
    "    def call(self, x):\n",
    "        #print('input to attention', x.shape)\n",
    "        x = self.conv(x)\n",
    "        #print('chA conv1 ', x.shape)\n",
    "        # x=self.avg_pool(x)\n",
    "        # print('chA avgpool ', x.shape)\n",
    "        # x = tf.keras.layers.Reshape((1, 1, -1))(x)\n",
    "        # x=self.fc11(x)\n",
    "        # print('chA fc11 ', x.shape)\n",
    "        # x=self.relu1(x)\n",
    "        # print('chA relu1 ', x.shape)\n",
    "        # x=self.fc12(x)\n",
    "        # print('chA fc12 ', x.shape)\n",
    "        \n",
    "        avg_out = self.fc12(self.relu1(self.fc11(self.reshape(self.avg_pool(x)))))\n",
    "        max_out = self.fc22(self.relu1(self.fc21(self.reshape(self.max_pool(x)))))\n",
    "        out = avg_out + max_out\n",
    "        return x * self.sigmoid(out)"
   ]
  },
  {
   "cell_type": "code",
   "execution_count": 19,
   "metadata": {
    "execution": {
     "iopub.execute_input": "2024-03-14T10:24:29.747383Z",
     "iopub.status.busy": "2024-03-14T10:24:29.747141Z",
     "iopub.status.idle": "2024-03-14T10:24:29.758876Z",
     "shell.execute_reply": "2024-03-14T10:24:29.757906Z",
     "shell.execute_reply.started": "2024-03-14T10:24:29.747362Z"
    }
   },
   "outputs": [],
   "source": [
    "def conv3otherRelu(filters, kernel_size=None, stride=None, padding=None):\n",
    "    if kernel_size is None:\n",
    "        kernel_size = 3\n",
    "    if stride is None:\n",
    "        stride = 1\n",
    "    if padding is None:\n",
    "        padding = 'same'\n",
    "\n",
    "    return tf.keras.Sequential([\n",
    "        tf.keras.layers.Conv2D(filters, kernel_size, stride, padding, use_bias=True),\n",
    "        tf.keras.layers.LeakyReLU()\n",
    "    ])"
   ]
  },
  {
   "cell_type": "code",
   "execution_count": 20,
   "metadata": {
    "execution": {
     "iopub.execute_input": "2024-03-14T10:24:29.760214Z",
     "iopub.status.busy": "2024-03-14T10:24:29.759952Z",
     "iopub.status.idle": "2024-03-14T10:24:29.770185Z",
     "shell.execute_reply": "2024-03-14T10:24:29.769194Z",
     "shell.execute_reply.started": "2024-03-14T10:24:29.760191Z"
    }
   },
   "outputs": [],
   "source": [
    "# Define the ACBlock module\n",
    "class ACBlock(tf.keras.layers.Layer):\n",
    "    def __init__(self, out_planes):\n",
    "        super(ACBlock, self).__init__()\n",
    "        self.squre = tf.keras.layers.Conv2D(out_planes, 3, padding='same', use_bias=False)\n",
    "        self.cross_ver = tf.keras.layers.Conv2D(out_planes, (1, 3), padding='same', use_bias=False)\n",
    "        self.cross_hor = tf.keras.layers.Conv2D(out_planes, (3, 1), padding='same', use_bias=False)\n",
    "        self.bn = tf.keras.layers.BatchNormalization()\n",
    "        self.relu = tf.keras.layers.ReLU()\n",
    "\n",
    "    def call(self, x):\n",
    "        #print('ACBlock output shape', x.shape)\n",
    "        x1 = self.squre(x)\n",
    "        x2 = self.cross_ver(x)\n",
    "        x3 = self.cross_hor(x)\n",
    "        #print('ACBlock output shape', self.relu(self.bn(x1 + x2 + x3)).shape)\n",
    "        return self.relu(self.bn(x1 + x2 + x3))"
   ]
  },
  {
   "cell_type": "code",
   "execution_count": 21,
   "metadata": {
    "execution": {
     "iopub.execute_input": "2024-03-14T10:24:29.771531Z",
     "iopub.status.busy": "2024-03-14T10:24:29.771257Z",
     "iopub.status.idle": "2024-03-14T10:24:29.806066Z",
     "shell.execute_reply": "2024-03-14T10:24:29.805137Z",
     "shell.execute_reply.started": "2024-03-14T10:24:29.771509Z"
    }
   },
   "outputs": [],
   "source": [
    "class MACUNet(tf.keras.Model):\n",
    "    def __init__(self, band_num, class_num):\n",
    "        super(MACUNet, self).__init__()\n",
    "        self.band_num = band_num\n",
    "        self.class_num = class_num\n",
    "\n",
    "        # channels = [32, 64, 128, 256, 512]\n",
    "        channels = [16, 32, 64, 128, 256, 512]\n",
    "        self.conv1 = tf.keras.Sequential(\n",
    "           [ ACBlock(channels[0]),\n",
    "            ACBlock(channels[0])]\n",
    "        )\n",
    "        self.conv12 = tf.keras.Sequential(\n",
    "            [tf.keras.layers.MaxPooling2D(pool_size=(2, 2), strides=(2, 2)),\n",
    "            ACBlock(channels[1])]\n",
    "        )\n",
    "        self.conv13 = tf.keras.Sequential(\n",
    "            [tf.keras.layers.MaxPooling2D(pool_size=(2, 2), strides=(2, 2)),\n",
    "            ACBlock(channels[2])]\n",
    "        )\n",
    "        self.conv14 = tf.keras.Sequential(\n",
    "            [tf.keras.layers.MaxPooling2D(pool_size=(2, 2), strides=(2, 2)),\n",
    "            ACBlock(channels[3])]\n",
    "        )\n",
    "\n",
    "        self.conv2 = tf.keras.Sequential(\n",
    "           [tf.keras.layers.MaxPooling2D(pool_size=(2, 2), strides=(2, 2)),\n",
    "            ACBlock(channels[1]),\n",
    "            ACBlock(channels[1])]\n",
    "        )\n",
    "        self.conv23 = tf.keras.Sequential(\n",
    "            [tf.keras.layers.MaxPooling2D(pool_size=(2, 2), strides=(2, 2)),\n",
    "            ACBlock(channels[2])]\n",
    "        )\n",
    "        self.conv24 = tf.keras.Sequential(\n",
    "            [tf.keras.layers.MaxPooling2D(pool_size=(2, 2), strides=(2, 2)),\n",
    "            ACBlock(channels[3])]\n",
    "        )\n",
    "\n",
    "        self.conv3 = tf.keras.Sequential(\n",
    "           [ tf.keras.layers.MaxPooling2D(pool_size=(2, 2), strides=(2, 2)),\n",
    "            ACBlock(channels[2]),\n",
    "            ACBlock(channels[2]),\n",
    "            ACBlock(channels[2])]\n",
    "        )\n",
    "        self.conv34 = tf.keras.Sequential(\n",
    "            [tf.keras.layers.MaxPooling2D(pool_size=(2, 2), strides=(2, 2)),\n",
    "            ACBlock(channels[3])]\n",
    "        )\n",
    "\n",
    "        self.conv4 = tf.keras.Sequential(\n",
    "            [tf.keras.layers.MaxPooling2D(pool_size=(2, 2), strides=(2, 2)),\n",
    "            ACBlock(channels[3]),\n",
    "            ACBlock(channels[3]),\n",
    "            ACBlock(channels[3])]\n",
    "        )\n",
    "\n",
    "        self.conv5 = tf.keras.Sequential(\n",
    "            [tf.keras.layers.MaxPooling2D(pool_size=(2, 2), strides=(2, 2)),\n",
    "            ACBlock(channels[4]),\n",
    "            ACBlock(channels[4]),\n",
    "            ACBlock(channels[4])]\n",
    "        )\n",
    "\n",
    "        self.skblock4 = ChannelAttention(channels[3]*2, 16)\n",
    "        self.skblock3 = ChannelAttention(channels[2]*2, 16)\n",
    "        self.skblock2 = ChannelAttention(channels[1]*2, 16)\n",
    "        self.skblock1 = ChannelAttention(channels[0]*2, 16)\n",
    "\n",
    "        self.deconv4 = tf.keras.layers.Conv2DTranspose(channels[3], kernel_size=2, strides=(2, 2))\n",
    "        self.deconv43 = tf.keras.layers.Conv2DTranspose(channels[2], kernel_size=2, strides=(2, 2))\n",
    "        self.deconv42 = tf.keras.layers.Conv2DTranspose(channels[1], kernel_size=2, strides=(2, 2))\n",
    "        self.deconv41 = tf.keras.layers.Conv2DTranspose(channels[0], kernel_size=2, strides=(2, 2))\n",
    "\n",
    "\n",
    "        self.conv6 = tf.keras.Sequential(\n",
    "           [ ACBlock( channels[3]),\n",
    "            ACBlock(channels[3])]\n",
    "        )\n",
    "\n",
    "        self.deconv3 = tf.keras.layers.Conv2DTranspose(channels[2], kernel_size=2, strides=(2, 2))\n",
    "        self.deconv32 = tf.keras.layers.Conv2DTranspose(channels[1], kernel_size=2, strides=(2, 2))\n",
    "        self.deconv31 = tf.keras.layers.Conv2DTranspose(channels[0], kernel_size=2, strides=(2, 2))\n",
    "        self.conv7 = tf.keras.Sequential(\n",
    "            [ACBlock(channels[2]),\n",
    "            ACBlock(channels[2])]\n",
    "        )\n",
    "\n",
    "        self.deconv2 = tf.keras.layers.Conv2DTranspose(channels[1], kernel_size=2, strides=(2, 2))\n",
    "        self.deconv21 = tf.keras.layers.Conv2DTranspose(channels[0], kernel_size=2, strides=(2, 2))\n",
    "        self.conv8 = tf.keras.Sequential(\n",
    "            [ACBlock(channels[1]),\n",
    "            ACBlock(channels[1])]\n",
    "        )\n",
    "\n",
    "        self.deconv1 = tf.keras.layers.Conv2DTranspose(channels[0], kernel_size=2, strides=(2, 2))\n",
    "        self.conv9 = tf.keras.Sequential(\n",
    "            [ACBlock(channels[0]),\n",
    "            ACBlock(channels[0])]\n",
    "        )\n",
    "\n",
    "        self.conv10 = tf.keras.layers.Conv2D(self.class_num, kernel_size=1, strides=1)\n",
    "    def summary(self, line_length=None, positions=None, print_fn=None):\n",
    "        # Print the summary of the model and each layer within it\n",
    "        super(MACUNet, self).summary(line_length=line_length, positions=positions, print_fn=print_fn)\n",
    "        for layer in self.layers:\n",
    "            if hasattr(layer, 'summary'):\n",
    "                layer.summary(line_length=line_length, positions=positions, print_fn=print_fn)\n",
    "\n",
    "    def call(self, x):\n",
    "        #print('input shape', x.shape)\n",
    "        conv1 = self.conv1(x)\n",
    "        #print('conv1 shape', conv1.shape)\n",
    "        conv12 = self.conv12(conv1)\n",
    "        #print('conv12 shape', conv12.shape)\n",
    "        conv13 = self.conv13(conv12)\n",
    "        #print('conv13 shape', conv13.shape)\n",
    "        conv14 = self.conv14(conv13)\n",
    "        #print('conv14 shape', conv14.shape)\n",
    "\n",
    "\n",
    "        conv2 = self.conv2(conv1)\n",
    "        #print('conv2 shape', conv2.shape)\n",
    "        conv23 = self.conv23(conv2)\n",
    "        #print('conv23 shape', conv23.shape)\n",
    "        conv24 = self.conv24(conv23)\n",
    "        #print('conv24 shape', conv24.shape)\n",
    "\n",
    "        conv3 = self.conv3(conv2)\n",
    "        #print('conv3 shape', conv3.shape)\n",
    "        conv34 = self.conv34(conv3)\n",
    "        #print('conv34 shape', conv34.shape)\n",
    "        conv4 = self.conv4(conv3)\n",
    "        #print('conv4 shape', conv4.shape)\n",
    "        conv5 = self.conv5(conv4)\n",
    "        #print('conv5 shape', conv5.shape)\n",
    "        \n",
    "        deconv4 = self.deconv4(conv5)\n",
    "        #print('deconv4 shape', deconv4.shape)\n",
    "        deconv43 = self.deconv43(deconv4)\n",
    "        #print('deconv43 shape', deconv43.shape)\n",
    "        deconv42 = self.deconv42(deconv43)\n",
    "        #print('deconv42 shape', deconv42.shape)\n",
    "        deconv41 = self.deconv41(deconv42)\n",
    "        #print('deconv41 shape', deconv41.shape)\n",
    "\n",
    "        conv6 = tf.concat([deconv4, conv4, conv34, conv24, conv14], axis=-1)\n",
    "        #print('conv6 concat shape', conv6.shape)\n",
    "        conv6 = self.skblock4(conv6)\n",
    "        #print('conv6 attention shape', conv6.shape)\n",
    "        conv6 = self.conv6(conv6)\n",
    "        del deconv4, conv4, conv34, conv24, conv14, conv5\n",
    "\n",
    "        deconv3 = self.deconv3(conv6)\n",
    "        deconv32 = self.deconv32(deconv3)\n",
    "        deconv31 = self.deconv31(deconv32)\n",
    "\n",
    "        conv7 = tf.concat([deconv3, deconv43, conv3, conv23, conv13], axis=-1)\n",
    "        conv7 = self.skblock3(conv7)\n",
    "        conv7 = self.conv7(conv7)\n",
    "        del deconv3, deconv43, conv3, conv23, conv13, conv6\n",
    "\n",
    "        deconv2 = self.deconv2(conv7)\n",
    "        deconv21 = self.deconv21(deconv2)\n",
    "\n",
    "        conv8 = tf.concat([deconv2, deconv42, deconv32, conv2, conv12], axis=-1)\n",
    "        conv8 = self.skblock2(conv8)\n",
    "        conv8 = self.conv8(conv8)\n",
    "        del deconv2, deconv42, deconv32, conv2, conv12, conv7\n",
    "\n",
    "        deconv1 = self.deconv1(conv8)\n",
    "        conv9 = tf.concat([deconv1, deconv41, deconv31, deconv21, conv1], axis=-1)\n",
    "        conv9 = self.skblock1(conv9)\n",
    "        conv9 = self.conv9(conv9)\n",
    "        # conv9 = self.seblock(conv9)\n",
    "        del deconv1, deconv41, deconv31, deconv21, conv1, conv8\n",
    "\n",
    "        output = self.conv10(conv9)\n",
    "        #print('output shape', output.shape)\n",
    "            \n",
    "        return output"
   ]
  },
  {
   "cell_type": "code",
   "execution_count": 22,
   "metadata": {
    "execution": {
     "iopub.execute_input": "2024-03-14T10:24:29.807711Z",
     "iopub.status.busy": "2024-03-14T10:24:29.807292Z",
     "iopub.status.idle": "2024-03-14T10:24:34.829177Z",
     "shell.execute_reply": "2024-03-14T10:24:34.828218Z",
     "shell.execute_reply.started": "2024-03-14T10:24:29.807685Z"
    }
   },
   "outputs": [
    {
     "data": {
      "text/html": [
       "<pre style=\"white-space:pre;overflow-x:auto;line-height:normal;font-family:Menlo,'DejaVu Sans Mono',consolas,'Courier New',monospace\"><span style=\"font-weight: bold\">Model: \"functional_16\"</span>\n",
       "</pre>\n"
      ],
      "text/plain": [
       "\u001b[1mModel: \"functional_16\"\u001b[0m\n"
      ]
     },
     "metadata": {},
     "output_type": "display_data"
    },
    {
     "data": {
      "text/html": [
       "<pre style=\"white-space:pre;overflow-x:auto;line-height:normal;font-family:Menlo,'DejaVu Sans Mono',consolas,'Courier New',monospace\">┏━━━━━━━━━━━━━━━━━━━━━━━━━━━━━━━━━┳━━━━━━━━━━━━━━━━━━━━━━━━┳━━━━━━━━━━━━━━━┓\n",
       "┃<span style=\"font-weight: bold\"> Layer (type)                    </span>┃<span style=\"font-weight: bold\"> Output Shape           </span>┃<span style=\"font-weight: bold\">       Param # </span>┃\n",
       "┡━━━━━━━━━━━━━━━━━━━━━━━━━━━━━━━━━╇━━━━━━━━━━━━━━━━━━━━━━━━╇━━━━━━━━━━━━━━━┩\n",
       "│ input_layer (<span style=\"color: #0087ff; text-decoration-color: #0087ff\">InputLayer</span>)        │ (<span style=\"color: #00d7ff; text-decoration-color: #00d7ff\">None</span>, <span style=\"color: #00af00; text-decoration-color: #00af00\">512</span>, <span style=\"color: #00af00; text-decoration-color: #00af00\">512</span>, <span style=\"color: #00af00; text-decoration-color: #00af00\">3</span>)    │             <span style=\"color: #00af00; text-decoration-color: #00af00\">0</span> │\n",
       "├─────────────────────────────────┼────────────────────────┼───────────────┤\n",
       "│ macu_net (<span style=\"color: #0087ff; text-decoration-color: #0087ff\">MACUNet</span>)              │ (<span style=\"color: #00d7ff; text-decoration-color: #00d7ff\">None</span>, <span style=\"color: #00af00; text-decoration-color: #00af00\">512</span>, <span style=\"color: #00af00; text-decoration-color: #00af00\">512</span>, <span style=\"color: #00af00; text-decoration-color: #00af00\">1</span>)    │     <span style=\"color: #00af00; text-decoration-color: #00af00\">5,149,185</span> │\n",
       "└─────────────────────────────────┴────────────────────────┴───────────────┘\n",
       "</pre>\n"
      ],
      "text/plain": [
       "┏━━━━━━━━━━━━━━━━━━━━━━━━━━━━━━━━━┳━━━━━━━━━━━━━━━━━━━━━━━━┳━━━━━━━━━━━━━━━┓\n",
       "┃\u001b[1m \u001b[0m\u001b[1mLayer (type)                   \u001b[0m\u001b[1m \u001b[0m┃\u001b[1m \u001b[0m\u001b[1mOutput Shape          \u001b[0m\u001b[1m \u001b[0m┃\u001b[1m \u001b[0m\u001b[1m      Param #\u001b[0m\u001b[1m \u001b[0m┃\n",
       "┡━━━━━━━━━━━━━━━━━━━━━━━━━━━━━━━━━╇━━━━━━━━━━━━━━━━━━━━━━━━╇━━━━━━━━━━━━━━━┩\n",
       "│ input_layer (\u001b[38;5;33mInputLayer\u001b[0m)        │ (\u001b[38;5;45mNone\u001b[0m, \u001b[38;5;34m512\u001b[0m, \u001b[38;5;34m512\u001b[0m, \u001b[38;5;34m3\u001b[0m)    │             \u001b[38;5;34m0\u001b[0m │\n",
       "├─────────────────────────────────┼────────────────────────┼───────────────┤\n",
       "│ macu_net (\u001b[38;5;33mMACUNet\u001b[0m)              │ (\u001b[38;5;45mNone\u001b[0m, \u001b[38;5;34m512\u001b[0m, \u001b[38;5;34m512\u001b[0m, \u001b[38;5;34m1\u001b[0m)    │     \u001b[38;5;34m5,149,185\u001b[0m │\n",
       "└─────────────────────────────────┴────────────────────────┴───────────────┘\n"
      ]
     },
     "metadata": {},
     "output_type": "display_data"
    },
    {
     "data": {
      "text/html": [
       "<pre style=\"white-space:pre;overflow-x:auto;line-height:normal;font-family:Menlo,'DejaVu Sans Mono',consolas,'Courier New',monospace\"><span style=\"font-weight: bold\"> Total params: </span><span style=\"color: #00af00; text-decoration-color: #00af00\">5,149,185</span> (19.64 MB)\n",
       "</pre>\n"
      ],
      "text/plain": [
       "\u001b[1m Total params: \u001b[0m\u001b[38;5;34m5,149,185\u001b[0m (19.64 MB)\n"
      ]
     },
     "metadata": {},
     "output_type": "display_data"
    },
    {
     "data": {
      "text/html": [
       "<pre style=\"white-space:pre;overflow-x:auto;line-height:normal;font-family:Menlo,'DejaVu Sans Mono',consolas,'Courier New',monospace\"><span style=\"font-weight: bold\"> Trainable params: </span><span style=\"color: #00af00; text-decoration-color: #00af00\">5,144,257</span> (19.62 MB)\n",
       "</pre>\n"
      ],
      "text/plain": [
       "\u001b[1m Trainable params: \u001b[0m\u001b[38;5;34m5,144,257\u001b[0m (19.62 MB)\n"
      ]
     },
     "metadata": {},
     "output_type": "display_data"
    },
    {
     "data": {
      "text/html": [
       "<pre style=\"white-space:pre;overflow-x:auto;line-height:normal;font-family:Menlo,'DejaVu Sans Mono',consolas,'Courier New',monospace\"><span style=\"font-weight: bold\"> Non-trainable params: </span><span style=\"color: #00af00; text-decoration-color: #00af00\">4,928</span> (19.25 KB)\n",
       "</pre>\n"
      ],
      "text/plain": [
       "\u001b[1m Non-trainable params: \u001b[0m\u001b[38;5;34m4,928\u001b[0m (19.25 KB)\n"
      ]
     },
     "metadata": {},
     "output_type": "display_data"
    }
   ],
   "source": [
    "import tensorflow as tf\n",
    "\n",
    "# Define the input layer\n",
    "inputs = tf.keras.layers.Input((512, 512, 3))\n",
    "\n",
    "# Create an instance of your MACUNet model\n",
    "macu_net = MACUNet(3, 1)\n",
    "\n",
    "# Call the MACUNet model on the input tensor to get the output tensor\n",
    "outputs = macu_net(inputs)\n",
    "\n",
    "# Define the model with input and output tensors\n",
    "model = tf.keras.Model(inputs, outputs)\n",
    "\n",
    "# Display the model summary\n",
    "macu_net.summary()\n",
    "\n",
    "#out = model(x)\n"
   ]
  },
  {
   "cell_type": "code",
   "execution_count": 24,
   "metadata": {
    "execution": {
     "iopub.execute_input": "2024-03-14T10:25:03.759740Z",
     "iopub.status.busy": "2024-03-14T10:25:03.758796Z",
     "iopub.status.idle": "2024-03-14T10:25:03.765393Z",
     "shell.execute_reply": "2024-03-14T10:25:03.764595Z",
     "shell.execute_reply.started": "2024-03-14T10:25:03.759707Z"
    }
   },
   "outputs": [],
   "source": [
    "from tensorflow.keras.losses import binary_crossentropy\n",
    "\n",
    "def dice_loss(y_true, y_pred):\n",
    "    smooth = 1\n",
    "    intersection = tf.reduce_sum(y_true * y_pred)\n",
    "    return 1 - (2. * intersection + smooth) / (tf.reduce_sum(y_true) + tf.reduce_sum(y_pred) + smooth)\n"
   ]
  },
  {
   "cell_type": "code",
   "execution_count": 28,
   "metadata": {
    "execution": {
     "iopub.execute_input": "2024-03-14T11:44:58.912535Z",
     "iopub.status.busy": "2024-03-14T11:44:58.912151Z",
     "iopub.status.idle": "2024-03-14T11:44:58.919440Z",
     "shell.execute_reply": "2024-03-14T11:44:58.918446Z",
     "shell.execute_reply.started": "2024-03-14T11:44:58.912504Z"
    }
   },
   "outputs": [],
   "source": [
    "# Define the initial learning rate and the total number of training steps\n",
    "initial_learning_rate = 0.0003\n",
    "total_steps = 100000000  # You should adjust this based on your training setup\n",
    "\n",
    "# Create a cosine annealing learning rate schedule\n",
    "learning_rate_schedule = tf.keras.optimizers.schedules.CosineDecay(\n",
    "    initial_learning_rate=initial_learning_rate,\n",
    "    decay_steps=total_steps,\n",
    "    alpha=0.0\n",
    ")\n",
    "\n",
    "# Initialize the Adam optimizer with the learning rate schedule\n",
    "opt = tf.keras.optimizers.Adam(learning_rate=learning_rate_schedule)"
   ]
  },
  {
   "cell_type": "code",
   "execution_count": 29,
   "metadata": {
    "execution": {
     "iopub.execute_input": "2024-03-14T11:44:59.183270Z",
     "iopub.status.busy": "2024-03-14T11:44:59.182899Z",
     "iopub.status.idle": "2024-03-14T11:44:59.191817Z",
     "shell.execute_reply": "2024-03-14T11:44:59.190966Z",
     "shell.execute_reply.started": "2024-03-14T11:44:59.183238Z"
    }
   },
   "outputs": [],
   "source": [
    "#opt = tf.keras.optimizers.Adam(learning_rate=(1e-4)*3)\n",
    "model.compile(optimizer=opt, loss='binary_crossentropy', metrics=['accuracy'])"
   ]
  },
  {
   "cell_type": "code",
   "execution_count": 30,
   "metadata": {
    "execution": {
     "iopub.execute_input": "2024-03-14T11:45:00.224813Z",
     "iopub.status.busy": "2024-03-14T11:45:00.224169Z",
     "iopub.status.idle": "2024-03-14T12:00:43.330807Z",
     "shell.execute_reply": "2024-03-14T12:00:43.329475Z",
     "shell.execute_reply.started": "2024-03-14T11:45:00.224762Z"
    }
   },
   "outputs": [
    {
     "name": "stdout",
     "output_type": "stream",
     "text": [
      "Epoch 1/100\n",
      "\u001b[1m309/309\u001b[0m \u001b[32m━━━━━━━━━━━━━━━━━━━━\u001b[0m\u001b[37m\u001b[0m \u001b[1m0s\u001b[0m 458ms/step - accuracy: 0.9111 - loss: 0.2320\n",
      "Epoch 1: val_loss improved from inf to 0.17179, saving model to ./macunet_building.weights.h5\n",
      "\u001b[1m309/309\u001b[0m \u001b[32m━━━━━━━━━━━━━━━━━━━━\u001b[0m\u001b[37m\u001b[0m \u001b[1m189s\u001b[0m 475ms/step - accuracy: 0.9111 - loss: 0.2320 - val_accuracy: 0.9323 - val_loss: 0.1718 - learning_rate: 0.0000e+00\n",
      "Epoch 2/100\n",
      "\u001b[1m309/309\u001b[0m \u001b[32m━━━━━━━━━━━━━━━━━━━━\u001b[0m\u001b[37m\u001b[0m \u001b[1m0s\u001b[0m 401ms/step - accuracy: 0.9187 - loss: 0.2115\n",
      "Epoch 2: val_loss improved from 0.17179 to 0.16895, saving model to ./macunet_building.weights.h5\n",
      "\u001b[1m309/309\u001b[0m \u001b[32m━━━━━━━━━━━━━━━━━━━━\u001b[0m\u001b[37m\u001b[0m \u001b[1m126s\u001b[0m 406ms/step - accuracy: 0.9187 - loss: 0.2115 - val_accuracy: 0.9333 - val_loss: 0.1690 - learning_rate: 0.0000e+00\n",
      "Epoch 3/100\n",
      "\u001b[1m309/309\u001b[0m \u001b[32m━━━━━━━━━━━━━━━━━━━━\u001b[0m\u001b[37m\u001b[0m \u001b[1m0s\u001b[0m 400ms/step - accuracy: 0.9219 - loss: 0.2028\n",
      "Epoch 3: val_loss did not improve from 0.16895\n",
      "\u001b[1m309/309\u001b[0m \u001b[32m━━━━━━━━━━━━━━━━━━━━\u001b[0m\u001b[37m\u001b[0m \u001b[1m125s\u001b[0m 404ms/step - accuracy: 0.9219 - loss: 0.2028 - val_accuracy: 0.9331 - val_loss: 0.1694 - learning_rate: 0.0000e+00\n",
      "Epoch 4/100\n",
      "\u001b[1m309/309\u001b[0m \u001b[32m━━━━━━━━━━━━━━━━━━━━\u001b[0m\u001b[37m\u001b[0m \u001b[1m0s\u001b[0m 401ms/step - accuracy: 0.9169 - loss: 0.2117\n",
      "Epoch 4: val_loss did not improve from 0.16895\n",
      "\u001b[1m309/309\u001b[0m \u001b[32m━━━━━━━━━━━━━━━━━━━━\u001b[0m\u001b[37m\u001b[0m \u001b[1m125s\u001b[0m 404ms/step - accuracy: 0.9169 - loss: 0.2117 - val_accuracy: 0.9327 - val_loss: 0.1706 - learning_rate: 0.0000e+00\n",
      "Epoch 5/100\n",
      "\u001b[1m309/309\u001b[0m \u001b[32m━━━━━━━━━━━━━━━━━━━━\u001b[0m\u001b[37m\u001b[0m \u001b[1m0s\u001b[0m 400ms/step - accuracy: 0.9208 - loss: 0.2072\n",
      "Epoch 5: val_loss did not improve from 0.16895\n",
      "\u001b[1m309/309\u001b[0m \u001b[32m━━━━━━━━━━━━━━━━━━━━\u001b[0m\u001b[37m\u001b[0m \u001b[1m125s\u001b[0m 403ms/step - accuracy: 0.9207 - loss: 0.2072 - val_accuracy: 0.9331 - val_loss: 0.1694 - learning_rate: 0.0000e+00\n",
      "Epoch 6/100\n",
      "\u001b[1m309/309\u001b[0m \u001b[32m━━━━━━━━━━━━━━━━━━━━\u001b[0m\u001b[37m\u001b[0m \u001b[1m0s\u001b[0m 401ms/step - accuracy: 0.9172 - loss: 0.2126\n",
      "Epoch 6: val_loss did not improve from 0.16895\n",
      "\u001b[1m309/309\u001b[0m \u001b[32m━━━━━━━━━━━━━━━━━━━━\u001b[0m\u001b[37m\u001b[0m \u001b[1m125s\u001b[0m 404ms/step - accuracy: 0.9172 - loss: 0.2126 - val_accuracy: 0.9329 - val_loss: 0.1700 - learning_rate: 0.0000e+00\n",
      "Epoch 7/100\n",
      "\u001b[1m309/309\u001b[0m \u001b[32m━━━━━━━━━━━━━━━━━━━━\u001b[0m\u001b[37m\u001b[0m \u001b[1m0s\u001b[0m 401ms/step - accuracy: 0.9213 - loss: 0.2056\n",
      "Epoch 7: val_loss did not improve from 0.16895\n",
      "\u001b[1m309/309\u001b[0m \u001b[32m━━━━━━━━━━━━━━━━━━━━\u001b[0m\u001b[37m\u001b[0m \u001b[1m125s\u001b[0m 404ms/step - accuracy: 0.9213 - loss: 0.2056 - val_accuracy: 0.9332 - val_loss: 0.1693 - learning_rate: 0.0000e+00\n",
      "Epoch 8/100\n",
      "\u001b[1m  7/309\u001b[0m \u001b[37m━━━━━━━━━━━━━━━━━━━━\u001b[0m \u001b[1m2:01\u001b[0m 403ms/step - accuracy: 0.9151 - loss: 0.2134"
     ]
    },
    {
     "name": "stderr",
     "output_type": "stream",
     "text": [
      "\n",
      "KeyboardInterrupt\n",
      "\n"
     ]
    }
   ],
   "source": [
    "callbacks = create_callbacks()\n",
    "history = model.fit(train_gen, validation_data=val_gen, batch_size=4,shuffle=True, verbose=1\n",
    "                                  ,epochs = 100, callbacks = callbacks )\n"
   ]
  },
  {
   "cell_type": "code",
   "execution_count": null,
   "metadata": {},
   "outputs": [],
   "source": [
    "plot_history(history)"
   ]
  },
  {
   "cell_type": "code",
   "execution_count": null,
   "metadata": {},
   "outputs": [],
   "source": [
    "model.load_weights(\"C:\\\\Users\\\\shyamlal\\\\Documents\\\\Building_Road_Segm\\\\macunet_building.weights.h5\")"
   ]
  },
  {
   "cell_type": "code",
   "execution_count": null,
   "metadata": {},
   "outputs": [],
   "source": [
    "y_pred = model.predict(x_test)\n",
    "y_pred = y_pred>0.5"
   ]
  },
  {
   "cell_type": "code",
   "execution_count": null,
   "metadata": {},
   "outputs": [],
   "source": [
    "#y_pred[1]>0.5"
   ]
  },
  {
   "cell_type": "code",
   "execution_count": null,
   "metadata": {},
   "outputs": [],
   "source": [
    "visualize_predictions(x_test, y_test, y_pred, num_samples=9)"
   ]
  },
  {
   "cell_type": "code",
   "execution_count": null,
   "metadata": {},
   "outputs": [],
   "source": [
    "from sklearn.metrics import *\n",
    "gt=(y_test.ravel()).astype('int')\n",
    "pd=(np.array(y_pred).ravel()).astype('int')\n",
    "f1 = f1_score(gt,pd,average='macro')\n",
    "kappa = cohen_kappa_score(gt,pd)\n",
    "accuracy = accuracy_score(gt,pd)\n",
    "jaccard = jaccard_score(gt,pd,average='macro')\n",
    "precision = precision_score(gt,pd,average='macro')\n",
    "recall = recall_score(gt,pd,average='macro')\n",
    "#print(np.unique(gt),np.unique(pd))\n",
    "print(\"F1 SCORE:\", f1)\n",
    "print(\"Kappa:\",kappa)\n",
    "print(\"Accuracy:\",accuracy)\n",
    "print(\"Jaccard Score:\",jaccard)\n",
    "print(\"Precision:\",precision)\n",
    "print(\"Recall:\",recall)\n"
   ]
  },
  {
   "cell_type": "markdown",
   "metadata": {},
   "source": [
    "# **CTMU_Net**"
   ]
  },
  {
   "cell_type": "code",
   "execution_count": null,
   "metadata": {},
   "outputs": [],
   "source": [
    "import tensorflow as tf\n",
    "class LipPooling(tf.keras.layers.Layer):\n",
    "    def __init__(self, filters=1):\n",
    "        super(LipPooling, self).__init__()\n",
    "        self.conv1=tf.keras.layers.Conv2D(filters, 3, padding='valid')\n",
    "        self.batch_norm=tf.keras.layers.BatchNormalization()\n",
    "        self.window_size=(3,3)\n",
    "    def call(inputs):\n",
    "        x=self.conv1(inputs)\n",
    "        x=self.batch_norm(x)\n",
    "        x=tf.keras.activations.sigmoid(x)\n",
    "        e_x=tf.keras.activations.exponential(x)\n",
    "        m_x= inputs*e_x\n",
    "        e_x=tf.nn.pool(e_x, self.window_size, pooling_type='SUM', padding='VALID')\n",
    "        m_x=tf.nn.pool(m_x, self.window_size, pooling_type='SUM', padding='VALID')\n",
    "        x=tf.divide(m_x, e_x+1e-8)\n",
    "\n",
    "        return x      "
   ]
  },
  {
   "cell_type": "code",
   "execution_count": null,
   "metadata": {},
   "outputs": [],
   "source": [
    "def channel_attention(input_feature, ratio=8):\n",
    "\t\n",
    "\tchannel_axis = -1\n",
    "\tchannel = input_feature._keras_shape[channel_axis]\n",
    "\t\n",
    "\tshared_layer_one = Dense(channel//ratio,\n",
    "\t\t\t\t\t\t\t activation='relu',\n",
    "\t\t\t\t\t\t\t kernel_initializer='he_normal',\n",
    "\t\t\t\t\t\t\t use_bias=True,\n",
    "\t\t\t\t\t\t\t bias_initializer='zeros')\n",
    "\tshared_layer_two = Dense(channel,\n",
    "\t\t\t\t\t\t\t kernel_initializer='he_normal',\n",
    "\t\t\t\t\t\t\t use_bias=True,\n",
    "\t\t\t\t\t\t\t bias_initializer='zeros')\n",
    "\t\n",
    "\tavg_pool = GlobalAveragePooling2D()(input_feature)    \n",
    "\tavg_pool = Reshape((1,1,channel))(avg_pool)\n",
    "\tassert avg_pool._keras_shape[1:] == (1,1,channel)\n",
    "\tavg_pool = shared_layer_one(avg_pool)\n",
    "\tassert avg_pool._keras_shape[1:] == (1,1,channel//ratio)\n",
    "\tavg_pool = shared_layer_two(avg_pool)\n",
    "\tassert avg_pool._keras_shape[1:] == (1,1,channel)\n",
    "\t\n",
    "\tmax_pool = GlobalMaxPooling2D()(input_feature)\n",
    "\tmax_pool = Reshape((1,1,channel))(max_pool)\n",
    "\tassert max_pool._keras_shape[1:] == (1,1,channel)\n",
    "\tmax_pool = shared_layer_one(max_pool)\n",
    "\tassert max_pool._keras_shape[1:] == (1,1,channel//ratio)\n",
    "\tmax_pool = shared_layer_two(max_pool)\n",
    "\tassert max_pool._keras_shape[1:] == (1,1,channel)\n",
    "\t\n",
    "\tcbam_feature = Add()([avg_pool,max_pool])\n",
    "\tcbam_feature = Activation('sigmoid')(cbam_feature)\n",
    "\t\n",
    "\t# if K.image_data_format() == \"channels_first\":\n",
    "\t# \tcbam_feature = Permute((3, 1, 2))(cbam_feature)\n",
    "\t\n",
    "\treturn multiply([input_feature, cbam_feature])"
   ]
  },
  {
   "cell_type": "code",
   "execution_count": null,
   "metadata": {},
   "outputs": [],
   "source": [
    "#CTM module\n",
    "\n",
    "import tensorflow as tf\n",
    "\n",
    "def get_row_attention(q, k, f):\n",
    "  \"\"\"\n",
    "  Calculates row attention based on Q, K, and F feature maps.\n",
    "\n",
    "  Args:\n",
    "    q: A tensor of shape (batch_size, height, width, reduced_channels).\n",
    "    k: A tensor of the same shape as q.\n",
    "    f: A tensor of shape (batch_size, height, width, channels).\n",
    "\n",
    "  Returns:\n",
    "    A tensor of shape (batch_size, height, width, channels).\n",
    "  \"\"\"\n",
    "  \n",
    "  # Get dimensions\n",
    "  batch_size, height, width, reduced_channels = q.shape\n",
    "  channels = f.shape[-1]\n",
    "\n",
    "  # Calculate correlations\n",
    "  correlations = tf.matmul(q, tf.transpose(k))  # (batch_size, H, W, H)\n",
    "  correlations = tf.nn.softmax(correlations, axis=-1)  # (batch_size, H, W, H)\n",
    "\n",
    "  # Generate V feature map\n",
    "  v = tf.keras.layers.Conv2D(channels, kernel_size=1, activation=None, padding='same')(f)\n",
    "\n",
    "  # Calculate row attention scores\n",
    "  row_attention = []\n",
    "  for i in range(height):\n",
    "    # Extract relevant feature vectors for row i\n",
    "    qi = q[:, i, :, :]  # (batch_size, 1, W, reduced_channels)\n",
    "    ki = k[:, i, :, :]  # (batch_size, W, reduced_channels)\n",
    "    vi = v[:, i, :, :]  # (batch_size, 1, W, channels)\n",
    "    phi_i = k[:, :, i, :]  # (batch_size, W, channels)\n",
    "\n",
    "    # Calculate attention for row i\n",
    "    row_i_attention = tf.reduce_sum(correlations[:, i, :, :] * phi_i, axis=1) + vi\n",
    "    row_attention.append(row_i_attention)\n",
    "  row_attention = tf.stack(row_attention, axis=1)  # (batch_size, H, W, channels)\n",
    "\n",
    "  return row_attention\n",
    "\n",
    "# # Example usage (assuming Q, K, and F are defined elsewhere)\n",
    "# row_attention = get_row_attention(q, k, f)\n",
    "# print(f\"Row attention shape: {row_attention.shape}\")\n"
   ]
  },
  {
   "cell_type": "code",
   "execution_count": null,
   "metadata": {},
   "outputs": [],
   "source": [
    "import tensorflow as tf\n",
    "\n",
    "def get_column_attention(yrow, q, k, f):\n",
    "  \"\"\"\n",
    "  Calculates column attention based on Yrow, Q, K, and F feature maps.\n",
    "\n",
    "  Args:\n",
    "    yrow: A tensor of shape (batch_size, height, width, channels).\n",
    "    q: A tensor of the same shape as yrow.\n",
    "    k: A tensor of the same shape as q.\n",
    "    f: A tensor of shape (batch_size, height, width, channels).\n",
    "\n",
    "  Returns:\n",
    "    A tensor of shape (batch_size, height, width, channels).\n",
    "  \"\"\"\n",
    "  \n",
    "  # Get dimensions\n",
    "  batch_size, height, width, channels = yrow.shape\n",
    "\n",
    "  # Calculate correlations\n",
    "  correlations = tf.matmul(yrow, tf.transpose(k, perm=[0, 2, 1, 3]))  # (batch_size, H, W, C)\n",
    "  correlations = tf.nn.softmax(correlations, axis=-1)  # (batch_size, H, W, C)\n",
    "\n",
    "  # Calculate column attention scores\n",
    "  column_attention = []\n",
    "  for i in range(width):\n",
    "    # Extract relevant feature vectors for column i\n",
    "    yrow_i = yrow[:, :, i, :]  # (batch_size, H, 1, channels)\n",
    "    ki = k[:, :, i, :]  # (batch_size, H, channels)\n",
    "    fi = f[:, :, i, :]  # (batch_size, H, 1, channels)\n",
    "    phi_col_i = k[:, :, :, i]  # (batch_size, H, channels)\n",
    "\n",
    "    # Calculate attention for column i\n",
    "    col_i_attention = tf.reduce_sum(correlations[:, :, i, :] * phi_col_i, axis=-1) + fi\n",
    "    column_attention.append(col_i_attention)\n",
    "  column_attention = tf.stack(column_attention, axis=2)  # (batch_size, H, W, channels)\n",
    "\n",
    "  return column_attention\n",
    "\n",
    "# # Example usage (assuming Yrow, Q, K, and F are defined elsewhere)\n",
    "# column_attention = get_column_attention(yrow, q, k, f)\n",
    "# print(f\"Column attention shape: {column_attention.shape}\")\n"
   ]
  },
  {
   "cell_type": "code",
   "execution_count": null,
   "metadata": {},
   "outputs": [],
   "source": [
    "input_shape = (4, 512, 512, 3)\n",
    "inputs= tf.keras.Input(shape=(512, 512, 3))\n",
    "# row attention\n",
    "x=tf.keras.layers.Conv2D(16,1, activation='relu', padding='same',input_shape=input_shape[1:])(inputs)\n",
    "\n",
    "q=tf.keras.layers.Conv2D(16,1, activation='relu', padding='same')(x)\n",
    "k=q\n",
    "f=x\n",
    "yrow= get_row_attention(q,k,f)\n",
    "# column attention\n",
    "q=tf.keras.layers.Conv2D(512,1, activation='relu', padding='same')(yrow)\n",
    "k=q\n",
    "f=yrow\n",
    "output= get_column_attention(yrow,q,k,f)\n",
    "\n",
    "model=tf.keras.Model(inputs=inputs, outputs=output)\n",
    "\n",
    "model.summary()"
   ]
  },
  {
   "cell_type": "code",
   "execution_count": null,
   "metadata": {},
   "outputs": [],
   "source": [
    "?tf.keras.layers.Conv2D"
   ]
  },
  {
   "cell_type": "code",
   "execution_count": null,
   "metadata": {},
   "outputs": [],
   "source": [
    "def extract_patches(feature_map, patch_size=4):\n",
    "    patches=tf.image.extract_patches(images=feature_map, \n",
    "                                     sizes=[1, patch_size, patch_size,1],\n",
    "                                     strides=[1, patch_size, patch_size,1],\n",
    "                                    padding='VALID')\n",
    "    return patches"
   ]
  },
  {
   "cell_type": "code",
   "execution_count": null,
   "metadata": {},
   "outputs": [],
   "source": []
  },
  {
   "cell_type": "code",
   "execution_count": null,
   "metadata": {},
   "outputs": [],
   "source": []
  },
  {
   "cell_type": "code",
   "execution_count": null,
   "metadata": {},
   "outputs": [],
   "source": []
  },
  {
   "cell_type": "code",
   "execution_count": null,
   "metadata": {},
   "outputs": [],
   "source": [
    "model=DPM_UNet((512,512,3))"
   ]
  },
  {
   "cell_type": "code",
   "execution_count": null,
   "metadata": {
    "scrolled": true
   },
   "outputs": [],
   "source": [
    "model.summary()"
   ]
  },
  {
   "cell_type": "code",
   "execution_count": null,
   "metadata": {},
   "outputs": [],
   "source": [
    "opt = Adam(learning_rate=0.001)\n",
    "model.compile(optimizer=opt, loss='binary_crossentropy', metrics=['accuracy', iou_coef])"
   ]
  },
  {
   "cell_type": "code",
   "execution_count": null,
   "metadata": {},
   "outputs": [],
   "source": [
    "callbacks = create_callbacks()\n",
    "history = model.fit(train_gen, validation_data=val_gen, batch_size=4,shuffle=True, verbose=1\n",
    "                                  ,epochs = 100, callbacks = callbacks )\n"
   ]
  },
  {
   "cell_type": "code",
   "execution_count": null,
   "metadata": {},
   "outputs": [],
   "source": [
    "plot_history(history)"
   ]
  },
  {
   "cell_type": "code",
   "execution_count": null,
   "metadata": {},
   "outputs": [],
   "source": [
    "y_pred = dppnetmodel.predict(x_test)\n",
    "y_pred = y_pred>0.5"
   ]
  },
  {
   "cell_type": "code",
   "execution_count": null,
   "metadata": {},
   "outputs": [],
   "source": [
    "visualize_predictions(x_test, y_test, y_pred, num_samples=9)"
   ]
  },
  {
   "cell_type": "code",
   "execution_count": null,
   "metadata": {},
   "outputs": [],
   "source": [
    "model.load_weights('C:\\\\Users\\\\Admin\\\\Documents\\\\road_segmentation\\\\dpp_ROAD.h5')"
   ]
  },
  {
   "cell_type": "code",
   "execution_count": null,
   "metadata": {},
   "outputs": [],
   "source": [
    "y_predicted=[]\n",
    "for i in range(len(x_test)):\n",
    "    image= np.expand_dims(x_test[i], axis=0)\n",
    "\n",
    "    y_pred = dppnetmodel.predict(image)\n",
    "    y_pred=y_pred>0.5\n",
    "    y_predicted.append(y_pred)\n",
    "\n"
   ]
  },
  {
   "cell_type": "code",
   "execution_count": null,
   "metadata": {},
   "outputs": [],
   "source": [
    "from sklearn.metrics import *\n",
    "gt=(y_test.ravel()).astype('int')\n",
    "pd=(np.array(y_predicted).ravel()).astype('int')\n",
    "f1 = f1_score(gt,pd,average='macro')\n",
    "kappa = cohen_kappa_score(gt,pd)\n",
    "accuracy = accuracy_score(gt,pd)\n",
    "jaccard = jaccard_score(gt,pd,average='macro')\n",
    "precision = precision_score(gt,pd,average='macro')\n",
    "recall = recall_score(gt,pd,average='macro')\n",
    "print(np.unique(gt),np.unique(pd))\n",
    "print(\"F1 SCORE:\", f1)\n",
    "print(\"Kappa:\",kappa)\n",
    "print(\"Accuracy:\",accuracy)\n",
    "print(\"Jaccard Score:\",jaccard)\n",
    "print(\"Precision:\",precision)\n",
    "print(\"Recall:\",recall)\n"
   ]
  }
 ],
 "metadata": {
  "accelerator": "GPU",
  "colab": {
   "collapsed_sections": [],
   "name": "UNet_Tutorial.ipynb",
   "provenance": []
  },
  "kaggle": {
   "accelerator": "nvidiaTeslaT4",
   "dataSources": [
    {
     "datasetId": 4325289,
     "sourceId": 7432584,
     "sourceType": "datasetVersion"
    }
   ],
   "dockerImageVersionId": 30664,
   "isGpuEnabled": true,
   "isInternetEnabled": true,
   "language": "python",
   "sourceType": "notebook"
  },
  "kernelspec": {
   "display_name": "Python 3",
   "language": "python",
   "name": "python3"
  },
  "language_info": {
   "codemirror_mode": {
    "name": "ipython",
    "version": 3
   },
   "file_extension": ".py",
   "mimetype": "text/x-python",
   "name": "python",
   "nbconvert_exporter": "python",
   "pygments_lexer": "ipython3",
   "version": "3.10.13"
  }
 },
 "nbformat": 4,
 "nbformat_minor": 4
}
