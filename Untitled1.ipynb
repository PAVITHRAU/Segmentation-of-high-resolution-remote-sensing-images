{
 "cells": [
  {
   "cell_type": "code",
   "execution_count": 13,
   "id": "4f8de23c-735c-44cf-8571-40ddfb4a2de6",
   "metadata": {},
   "outputs": [],
   "source": [
    "import tensorflow as tf\n",
    "\n",
    "class AFM(tf.keras.layers.Layer):\n",
    "    def __init__(self, **kwargs):\n",
    "        super(AFM, self).__init__(**kwargs)\n",
    "        # Define the weights for the two-layer neural network\n",
    "        self.conv2d3x3elu=tf.keras.layers.Conv2D(filters=32, kernel_size=3, activation='elu', padding='same')\n",
    "        self.gap=tf.keras.layers.GlobalAveragePooling2D(keepdims=True)\n",
    "    def call(self, inputs):\n",
    "        x_inputs = self.conv2d3x3elu(inputs)\n",
    "        #Global avg Pooling\n",
    "        x = self.gap(x_inputs)\n",
    "        # Encode features\n",
    "        h=tf.keras.Sequential([tf.keras.layers.Dense(x_inputs.shape[-1], activation='relu'),\n",
    "                               tf.keras.layers.Dense(x_inputs.shape[-1], activation='sigmoid')])(x)\n",
    "\n",
    "        # Attention weights\n",
    "        weights = tf.math.multiply(h, x_inputs)\n",
    "        # Combine and return\n",
    "        return tf.reduce_sum(weights, axis=3)\n",
    "\n"
   ]
  },
  {
   "cell_type": "code",
   "execution_count": 12,
   "id": "fd155933-4c93-424b-927d-135d5ce6fe05",
   "metadata": {},
   "outputs": [],
   "source": [
    "class SeparableConvBlock(tf.keras.layers.Layer):\n",
    "  def __init__(self, filters, depth_activation=tf.nn.elu, pointwise_activation=None, **kwargs):\n",
    "    super(SeparableConvBlock, self).__init__(**kwargs)\n",
    "    self.depthwise = tf.keras.layers.DepthwiseConv2D(filters=filters, kernel_size=3, padding='same', depthwise_activation=depth_activation)\n",
    "    self.pointwise = tf.keras.layers.Conv2D(filters=filters, kernel_size=1, use_bias=False, activation=pointwise_activation)\n",
    "\n",
    "  def call(self, inputs):\n",
    "    x = self.depthwise(inputs)\n",
    "    x = self.pointwise(x)\n",
    "    return x"
   ]
  },
  {
   "cell_type": "code",
   "execution_count": 18,
   "id": "0e0a18da-601e-4992-b4fb-029de5298125",
   "metadata": {},
   "outputs": [],
   "source": [
    "class conv2DElU3x3(tf.keras.layers.Layer):\n",
    "    def __init__(self, filters=32):\n",
    "        super(conv2DElU3x3, self).__init__()\n",
    "        self.conv1=tf.keras.layers.Conv2D(filters, kernel_size=3, strides=1, padding='same', activation=tf.nn.elu)\n",
    "    def call(self, inputs):\n",
    "        x=self.conv1(inputs)\n",
    "        x=self.conv1(x)\n",
    "        return x\n"
   ]
  },
  {
   "cell_type": "code",
   "execution_count": 14,
   "id": "9f3f4c6a-d331-4da1-a38c-8d4ae7252c2f",
   "metadata": {},
   "outputs": [],
   "source": [
    "def create_model(num_classes, image_size=(512, 512, 3)):\n",
    "    inputs = tf.keras.Input(shape=image_size)\n",
    "    \n",
    "    layer1=conv2DElU3x3(32)\n",
    "    layer2=conv2DElU3x3(64)\n",
    "    layer3=conv2DElU3x3(128)\n",
    "    layer4=conv2DElU3x3(256)\n",
    "    layer5=conv2DElU3x3(512)\n",
    "\n",
    "    \n",
    "    x = tf.keras.layers.Conv2D(filters=32, kernel_size=3, strides=1, padding='same', activation=tf.nn.elu)(inputs)\n",
    "    x = tf.keras.layers.Conv2D(filters=32, kernel_size=3, strides=1, padding='same', activation=tf.nn.elu)(x)\n",
    "    \n",
    "    x = tf.keras.layers.MaxPooling2D((2,2), strides=(1,1))(x)\n",
    "\n",
    "    \n",
    "    outputs=AFM()(inputs)\n",
    "    model = tf.keras.Model(inputs=inputs, outputs=outputs)\n",
    "    return model\n",
    "    \n",
    "  # # Initial block\n",
    " \n",
    "\n",
    "  # # SCM + AFM stages\n",
    "  # for filters in [64, 128, 256]:\n",
    "  #   x = SeparableConvBlock(filters=filters, depth_activation=tf.nn.elu)(x)\n",
    "  #   x = AFM()(x)\n",
    "  #   x = tf.keras.layers.MaxPooling2D(pool_size=3, strides=2, padding='same')(x)\n",
    "\n",
    "  # # Flatten and classification head\n",
    "  # x = tf.keras.layers.GlobalAveragePooling2D()(x)\n",
    "  # outputs = tf.keras.layers.Dense(num_classes, activation='sigmoid')(x)\n",
    "\n",
    " "
   ]
  },
  {
   "cell_type": "code",
   "execution_count": 15,
   "id": "450ce576-7aa3-494c-8ef4-e4d032ed56fa",
   "metadata": {},
   "outputs": [
    {
     "name": "stdout",
     "output_type": "stream",
     "text": [
      "Model: \"model\"\n",
      "_________________________________________________________________\n",
      " Layer (type)                Output Shape              Param #   \n",
      "=================================================================\n",
      " input_1 (InputLayer)        [(None, 512, 512, 3)]     0         \n",
      "                                                                 \n",
      " afm_1 (AFM)                 (None, 512, 512)          896       \n",
      "                                                                 \n",
      "=================================================================\n",
      "Total params: 896\n",
      "Trainable params: 896\n",
      "Non-trainable params: 0\n",
      "_________________________________________________________________\n"
     ]
    }
   ],
   "source": [
    "model= create_model(1)\n",
    "model.summary()"
   ]
  },
  {
   "cell_type": "code",
   "execution_count": 6,
   "id": "eb21b289-f99b-4285-8caf-92e373f172c3",
   "metadata": {},
   "outputs": [],
   "source": [
    "import numpy as np\n",
    "x=np.array([[1,2,3],[3,4,5]])"
   ]
  },
  {
   "cell_type": "code",
   "execution_count": 8,
   "id": "78b1c6b6-f0f8-4f3a-852c-c57596a7e4b4",
   "metadata": {},
   "outputs": [
    {
     "data": {
      "text/plain": [
       "3"
      ]
     },
     "execution_count": 8,
     "metadata": {},
     "output_type": "execute_result"
    }
   ],
   "source": [
    "x.shape[-1]"
   ]
  },
  {
   "cell_type": "code",
   "execution_count": null,
   "id": "74761edc-e63e-4924-a34d-53b4889c126b",
   "metadata": {},
   "outputs": [],
   "source": []
  }
 ],
 "metadata": {
  "kernelspec": {
   "display_name": "Python 3 (ipykernel)",
   "language": "python",
   "name": "python3"
  },
  "language_info": {
   "codemirror_mode": {
    "name": "ipython",
    "version": 3
   },
   "file_extension": ".py",
   "mimetype": "text/x-python",
   "name": "python",
   "nbconvert_exporter": "python",
   "pygments_lexer": "ipython3",
   "version": "3.9.18"
  }
 },
 "nbformat": 4,
 "nbformat_minor": 5
}
